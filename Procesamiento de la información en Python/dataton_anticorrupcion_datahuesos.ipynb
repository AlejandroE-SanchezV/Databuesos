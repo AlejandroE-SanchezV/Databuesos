{
 "cells": [
  {
   "cell_type": "code",
   "execution_count": 534,
   "metadata": {
    "init_cell": true
   },
   "outputs": [],
   "source": [
    "import monitoreo\n",
    "import pandas as pd\n",
    "import re\n",
    "from bs4 import BeautifulSoup as BS\n",
    "import requests\n",
    "pd.options.display.max_columns: int=200\n",
    "import monitoreo_corrupcion\n",
    "from monitoreo import palabras_encontradas, plain, asigna_categorias\n",
    "import json\n",
    "import string\n",
    "import matplotlib.pyplot as plt\n",
    "from sklearn.preprocessing import StandardScaler\n",
    "from sklearn.decomposition import PCA\n",
    "puntuacion = string.punctuation+\"“©\\r\\n-\"\n",
    "pd.options.display.max_colwidth = 300\n",
    "def sin_acento(x):\n",
    "    output = x.replace('á', 'a').replace('é', 'e').replace('í', 'i').replace('ó', 'o').replace('ú', 'u')\\\n",
    "            .replace('Á', 'A').replace('É', 'E').replace('Í', 'I').replace('Ó', 'O').replace('Ú', 'U')\n",
    "    return output\n",
    "\n",
    "def remueve_pun(s):\n",
    "    table = str.maketrans({key: None for key in puntuacion})\n",
    "    return s.translate(table)\n",
    "\n",
    "\n",
    "def normaliza_texto(s):\n",
    "    out = remueve_pun(sin_acento(s.lower())).strip()\n",
    "    return out"
   ]
  },
  {
   "cell_type": "markdown",
   "metadata": {},
   "source": [
    "# Verifica nombres en las noticias"
   ]
  },
  {
   "cell_type": "code",
   "execution_count": 116,
   "metadata": {},
   "outputs": [],
   "source": [
    "base_noticias = '../base_noticias/df_noticias.pkl'\n",
    "datos = '../../datos/'\n",
    "df = pd.read_pickle(base_noticias)\n",
    "df['ner'] = df['ner'].apply(list)"
   ]
  },
  {
   "cell_type": "code",
   "execution_count": 252,
   "metadata": {},
   "outputs": [],
   "source": [
    "provsanc = pd.read_csv(datos+'proveedores_sancionados.csv', encoding='latin1')\n",
    "texto_provsanc = normaliza_texto((provsanc['PROVEEDOR O CONTRATISTA']+' ; ').sum())"
   ]
  },
  {
   "cell_type": "code",
   "execution_count": 131,
   "metadata": {},
   "outputs": [],
   "source": [
    "rupc = pd.read_csv(datos+'RUPC.csv', encoding='latin1')\n",
    "texto_rupc = normaliza_texto((rupc['Nombre de la empresa']+' ; ').sum())"
   ]
  },
  {
   "cell_type": "code",
   "execution_count": 61,
   "metadata": {},
   "outputs": [],
   "source": [
    "servsanc = pd.read_csv(datos+'ServPubSancionados.csv', encoding='latin1')\n",
    "texto_serv = normaliza_texto((servsanc['Servidor Público']+' ; ').sum())"
   ]
  },
  {
   "cell_type": "code",
   "execution_count": 117,
   "metadata": {},
   "outputs": [],
   "source": [
    "ner = '|'.join(sorted(list({x.strip() for x in df.ner.sum() if x!=''}), reverse=True))"
   ]
  },
  {
   "cell_type": "markdown",
   "metadata": {},
   "source": [
    "## Funcionarios públicos sancionados"
   ]
  },
  {
   "cell_type": "code",
   "execution_count": 118,
   "metadata": {},
   "outputs": [
    {
     "data": {
      "text/plain": [
       "{'jose luis alarcon ezeta', 'mario alberto avila lizarraga'}"
      ]
     },
     "execution_count": 118,
     "metadata": {},
     "output_type": "execute_result"
    }
   ],
   "source": [
    "func_sanc_not = {x for x in re.findall(ner, texto_serv) if len(x.split())==4}"
   ]
  },
  {
   "cell_type": "markdown",
   "metadata": {},
   "source": [
    "## Proveedores sancionados"
   ]
  },
  {
   "cell_type": "code",
   "execution_count": 552,
   "metadata": {},
   "outputs": [],
   "source": [
    "prov_sanc_not = {x for x in re.findall(ner, texto_provsanc) if len(x.split())>=3}\n",
    "# televisión de hidalgo\n",
    "# Meneses de Weyll"
   ]
  },
  {
   "cell_type": "markdown",
   "metadata": {},
   "source": [
    "## RUPC"
   ]
  },
  {
   "cell_type": "code",
   "execution_count": 157,
   "metadata": {
    "scrolled": true
   },
   "outputs": [],
   "source": [
    "ner_rupc = {x for x in re.findall(ner, texto_rupc)}"
   ]
  },
  {
   "cell_type": "markdown",
   "metadata": {},
   "source": [
    "## Creando variable de instituciones"
   ]
  },
  {
   "cell_type": "code",
   "execution_count": 231,
   "metadata": {},
   "outputs": [],
   "source": [
    "with open(f'dicc_inst.json', 'r', encoding='utf-8') as keywords_file:\n",
    "    diccionario_inst = json.load(keywords_file)\n",
    "pat_inst = plain('|'.join(diccionario_inst.values()))"
   ]
  },
  {
   "cell_type": "code",
   "execution_count": 232,
   "metadata": {},
   "outputs": [],
   "source": [
    "df['ocurre_instituciones'] = df['texto'].apply(\n",
    "    lambda x: ','.join(list(set(palabras_encontradas(pat_inst, plain(x))))))\n",
    "df['N_instituciones'] = df['texto'].apply(\n",
    "    lambda x: len(set(palabras_encontradas(pat_inst, plain(x)))))\n",
    "df['instituciones_categoria'] = df['ocurre_instituciones']\\\n",
    "    .apply(lambda x:','.join(asigna_categorias(x,dicc=diccionario_inst)) ).replace({\"\":'Ninguno'})"
   ]
  },
  {
   "cell_type": "markdown",
   "metadata": {},
   "source": [
    "# Creación índice de riesgo"
   ]
  },
  {
   "cell_type": "markdown",
   "metadata": {},
   "source": [
    "## Número de noticias por institución"
   ]
  },
  {
   "cell_type": "code",
   "execution_count": 347,
   "metadata": {},
   "outputs": [],
   "source": [
    "noticias_inst = pd.Series([y for x in df['instituciones_categoria'].tolist() if isinstance(x, str) for y in x.split(',')],\n",
    "            name='noticias').value_counts().to_frame().sort_values('noticias', ascending=False)\\\n",
    "    .reset_index().rename(columns={'index': 'SIGLAS'})\n",
    "noticias_inst.to_csv(datos+'noticias_dependencias.csv', index=False)"
   ]
  },
  {
   "cell_type": "markdown",
   "metadata": {},
   "source": [
    "## Licitaciones vigentes"
   ]
  },
  {
   "cell_type": "code",
   "execution_count": 493,
   "metadata": {},
   "outputs": [],
   "source": [
    "uc = pd.read_excel(datos+'UC.xlsx').rename(columns=lambda x: plain(x).replace(' ', '_'))"
   ]
  },
  {
   "cell_type": "code",
   "execution_count": 547,
   "metadata": {
    "scrolled": true
   },
   "outputs": [],
   "source": [
    "lic_vig = pd.read_csv(datos+'licitaciones_vigentes_fechas.csv')"
   ]
  },
  {
   "cell_type": "markdown",
   "metadata": {},
   "source": [
    "## Proveedores sancionados por entidad"
   ]
  },
  {
   "cell_type": "code",
   "execution_count": 337,
   "metadata": {
    "scrolled": true
   },
   "outputs": [],
   "source": [
    "provsanc['dependencia'] = provsanc[' \\tDEPENDENCIA'].apply(normaliza_texto)\n",
    "#provsanc.groupby([' \\tDEPENDENCIA']).sum()\n",
    "provsanc_g = provsanc.merge(dep[['dependencia', 'SIGLAS']], on='dependencia')\\\n",
    "    .groupby('SIGLAS')[[' \\tDEPENDENCIA']].count().reset_index()\\\n",
    "    .rename(columns={' \\tDEPENDENCIA': 'prov_sanc'})\n",
    "provsanc_g.to_csv(datos+'prov_sanc_dependencia.csv', index=False)"
   ]
  },
  {
   "cell_type": "markdown",
   "metadata": {},
   "source": [
    "## Funcionarios sancionados por depenencia"
   ]
  },
  {
   "cell_type": "code",
   "execution_count": 336,
   "metadata": {
    "scrolled": true
   },
   "outputs": [],
   "source": [
    "serv_g = servsanc.groupby('Dependencia')[[' Expediente']].count().reset_index()\\\n",
    "    .assign(dependencia=lambda x: x['Dependencia'].apply(plain))\\\n",
    "    .merge(dep[['dependencia', 'SIGLAS']], on='dependencia')\\\n",
    "    .rename(columns={' Expediente': 'serv_sanc'})[['SIGLAS', 'serv_sanc']]\n",
    "serv_g.to_csv(datos+'serv_sanc_dependencia.csv', index=False)"
   ]
  },
  {
   "cell_type": "markdown",
   "metadata": {},
   "source": [
    "## Índice de riesgo IMCO por dependencia"
   ]
  },
  {
   "cell_type": "code",
   "execution_count": null,
   "metadata": {},
   "outputs": [],
   "source": [
    "imco = pd.read_excel(datos+'riesgo_imco_uc.xlsx')\n",
    "imco_g = imco.groupby(['dependencia']).mean()[['Riesgo_tipo_contratacion']].reset_index()\\\n",
    "    .merge(dep[['SIGLAS', 'DEPENDENCIA_ENTIDAD']], right_on='DEPENDENCIA_ENTIDAD', left_on='dependencia')\\\n",
    "    [['SIGLAS', 'Riesgo_tipo_contratacion']]\n",
    "imco_g.to_csv(datos+'puntaje_imco_dependencia.csv', index=False)"
   ]
  },
  {
   "cell_type": "markdown",
   "metadata": {},
   "source": [
    "## PCA"
   ]
  },
  {
   "cell_type": "code",
   "execution_count": 516,
   "metadata": {},
   "outputs": [],
   "source": [
    "df_pca = imco_g.merge(serv_g, how='left')\\\n",
    "    .merge(provsanc_g, how='left')\\\n",
    "    .merge(noticias_inst, how='left')\\\n",
    "    .fillna(0)\n",
    "pca_std = StandardScaler().fit_transform(df_pca.iloc[:,1:])\n",
    "pca = PCA(n_components=4)\n",
    "principalComponents = pca.fit_transform(pca_std)\n",
    "principalDf = pd.DataFrame(data = principalComponents\n",
    "             , columns = ['pca', 'pca2', 'pca3', 'pca4'])\n",
    "df_pca['pca'] = (principalDf * pca.explained_variance_ratio_).sum(axis=1)\n",
    "df_pca['alerta2'] = pd.qcut(df_pca['pca'], q=4, labels=[5, 4, 3, 2])\n",
    "alerta2 = lic_vig.merge(df_pca[['SIGLAS', 'alerta2']], left_on='siglas_de_la_institucion', right_on='SIGLAS', how='left')[['link', 'alerta2']]\n",
    "alerta2.to_csv(datos+'alerta2.csv', index=False)\n",
    "df_pca.sort_values('pca', ascending=False).to_csv(datos+'riesgo_por_dependencia.csv', index=False)"
   ]
  },
  {
   "cell_type": "markdown",
   "metadata": {},
   "source": [
    "### Varianza explicada\n",
    "\n",
    "Encontramos que la varianza explicada por cada componente es bastante similar, por tanto, decidimos usar los 4 componentes para construir el índice. Cada componente se multiplicó por el porcentaje de la varianza que explicaba y luego sumamos estos valores."
   ]
  },
  {
   "cell_type": "code",
   "execution_count": 549,
   "metadata": {
    "scrolled": false
   },
   "outputs": [
    {
     "data": {
      "text/plain": [
       "array([0.29781402, 0.25878261, 0.23768743, 0.20571594])"
      ]
     },
     "execution_count": 549,
     "metadata": {},
     "output_type": "execute_result"
    }
   ],
   "source": [
    "pca.explained_variance_ratio_"
   ]
  },
  {
   "cell_type": "markdown",
   "metadata": {},
   "source": [
    "### Relación del índice con las variables\n",
    "\n",
    "Encontramos que el índice se relaciona principlamente con el número de noticias en medios y el número de proveedores sancionados. Con el número de funcionarios sancionados caso no presenta relación y con el índice de riesgo de contratación la correlación es negativa con un nivel de asociación relativamente bajo."
   ]
  },
  {
   "cell_type": "code",
   "execution_count": 551,
   "metadata": {},
   "outputs": [
    {
     "data": {
      "text/plain": [
       "Riesgo_tipo_contratacion   -0.183778\n",
       "serv_sanc                   0.003731\n",
       "prov_sanc                   0.637192\n",
       "noticias                    0.782737\n",
       "pca                         1.000000\n",
       "Name: pca, dtype: float64"
      ]
     },
     "execution_count": 551,
     "metadata": {},
     "output_type": "execute_result"
    }
   ],
   "source": [
    "df_pca.corr()['pca']"
   ]
  },
  {
   "cell_type": "code",
   "execution_count": 538,
   "metadata": {},
   "outputs": [
    {
     "data": {
      "text/plain": [
       "array([[<matplotlib.axes._subplots.AxesSubplot object at 0x000001A95425A240>,\n",
       "        <matplotlib.axes._subplots.AxesSubplot object at 0x000001A9542C1940>,\n",
       "        <matplotlib.axes._subplots.AxesSubplot object at 0x000001A954298898>,\n",
       "        <matplotlib.axes._subplots.AxesSubplot object at 0x000001A954293F98>],\n",
       "       [<matplotlib.axes._subplots.AxesSubplot object at 0x000001A9543042E8>,\n",
       "        <matplotlib.axes._subplots.AxesSubplot object at 0x000001A954304978>,\n",
       "        <matplotlib.axes._subplots.AxesSubplot object at 0x000001A95433D2B0>,\n",
       "        <matplotlib.axes._subplots.AxesSubplot object at 0x000001A954383F60>],\n",
       "       [<matplotlib.axes._subplots.AxesSubplot object at 0x000001A9543AA080>,\n",
       "        <matplotlib.axes._subplots.AxesSubplot object at 0x000001A9543C5080>,\n",
       "        <matplotlib.axes._subplots.AxesSubplot object at 0x000001A954406400>,\n",
       "        <matplotlib.axes._subplots.AxesSubplot object at 0x000001A954424E80>],\n",
       "       [<matplotlib.axes._subplots.AxesSubplot object at 0x000001A954446390>,\n",
       "        <matplotlib.axes._subplots.AxesSubplot object at 0x000001A95445FF28>,\n",
       "        <matplotlib.axes._subplots.AxesSubplot object at 0x000001A9544747B8>,\n",
       "        <matplotlib.axes._subplots.AxesSubplot object at 0x000001A9544AC9E8>]],\n",
       "      dtype=object)"
      ]
     },
     "execution_count": 538,
     "metadata": {},
     "output_type": "execute_result"
    },
    {
     "data": {
      "image/png": "[encoded data removed]",
      "text/plain": [
       "<Figure size 432x288 with 16 Axes>"
      ]
     },
     "metadata": {},
     "output_type": "display_data"
    }
   ],
   "source": [
    "pd.plotting.scatter_matrix(principalDf, alpha=0.2)#.plot.scatter(x='pca', y='pca2')"
   ]
  },
  {
   "cell_type": "code",
   "execution_count": 533,
   "metadata": {},
   "outputs": [
    {
     "data": {
      "text/plain": [
       "<matplotlib.axes._subplots.AxesSubplot at 0x1a9550f8dd8>"
      ]
     },
     "execution_count": 533,
     "metadata": {},
     "output_type": "execute_result"
    },
    {
     "data": {
      "image/png": "[encoded data removed]",
      "text/plain": [
       "<Figure size 432x288 with 1 Axes>"
      ]
     },
     "metadata": {},
     "output_type": "display_data"
    }
   ],
   "source": [
    "principalDf.plot.scatter(x='pca2', y='pca3')"
   ]
  },
  {
   "cell_type": "markdown",
   "metadata": {},
   "source": [
    "## Crea diccionario de dependencias"
   ]
  },
  {
   "cell_type": "code",
   "execution_count": 230,
   "metadata": {},
   "outputs": [],
   "source": [
    "dep = pd.read_excel(datos+'directorio_UC.xlsx').drop_duplicates(['SIGLAS', 'DEPENDENCIA_ENTIDAD'])\n",
    "dep['re'] = dep['DEPENDENCIA_ENTIDAD'].str.replace(', S.A. de C.V.|_', '') + '|' +dep['SIGLAS'].apply(lambda x: f'\\\\b{x}\\\\b')\n",
    "dep['dependencia'] = dep['DEPENDENCIA_ENTIDAD'].apply(plain)\n",
    "dep.drop_duplicates(subset=['SIGLAS'], inplace=True)\n",
    "with open('dicc_inst.json', 'w') as jfile:\n",
    "    json.dump(dep.set_index('SIGLAS')['re'].to_dict(), jfile)"
   ]
  },
  {
   "cell_type": "markdown",
   "metadata": {},
   "source": [
    "# Verifica licitaciones que no tienen archivos adjuntos"
   ]
  },
  {
   "cell_type": "code",
   "execution_count": 161,
   "metadata": {},
   "outputs": [],
   "source": [
    "anex = pd.read_csv(datos+'vigentes.csv')\\\n",
    "    .replace('(sin archivo adjunto)', pd.np.nan)\n",
    "ind = (anex.convocatoria.isnull()) & (anex.anexos_convocatoria.isnull()) & (anex.proyecto_convocatoria.isnull()) & (anex.N_archivos_anexo_adicional==0)\n",
    "anex.loc[ind, 'sin_adjuntos'] = 1\n",
    "anex.loc[~ind, 'sin_adjuntos'] = 0"
   ]
  },
  {
   "cell_type": "code",
   "execution_count": 162,
   "metadata": {},
   "outputs": [],
   "source": [
    "anex.to_csv(datos+'licitaciones_vigentes.csv', index=False)"
   ]
  }
 ],
 "metadata": {
  "celltoolbar": "Initialization Cell",
  "hide_input": false,
  "kernelspec": {
   "display_name": "Python 3",
   "language": "python",
   "name": "python3"
  },
  "language_info": {
   "codemirror_mode": {
    "name": "ipython",
    "version": 3
   },
   "file_extension": ".py",
   "mimetype": "text/x-python",
   "name": "python",
   "nbconvert_exporter": "python",
   "pygments_lexer": "ipython3",
   "version": "3.6.4"
  },
  "toc": {
   "base_numbering": 1,
   "nav_menu": {},
   "number_sections": true,
   "sideBar": true,
   "skip_h1_title": false,
   "title_cell": "Table of Contents",
   "title_sidebar": "Contents",
   "toc_cell": false,
   "toc_position": {},
   "toc_section_display": true,
   "toc_window_display": false
  },
  "varInspector": {
   "cols": {
    "lenName": 16,
    "lenType": 16,
    "lenVar": 40
   },
   "kernels_config": {
    "python": {
     "delete_cmd_postfix": "",
     "delete_cmd_prefix": "del ",
     "library": "var_list.py",
     "varRefreshCmd": "print(var_dic_list())"
    },
    "r": {
     "delete_cmd_postfix": ") ",
     "delete_cmd_prefix": "rm(",
     "library": "var_list.r",
     "varRefreshCmd": "cat(var_dic_list()) "
    }
   },
   "types_to_exclude": [
    "module",
    "function",
    "builtin_function_or_method",
    "instance",
    "_Feature"
   ],
   "window_display": false
  }
 },
 "nbformat": 4,
 "nbformat_minor": 2
}
